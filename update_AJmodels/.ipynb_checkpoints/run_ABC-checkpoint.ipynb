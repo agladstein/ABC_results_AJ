{
 "cells": [
  {
   "cell_type": "markdown",
   "metadata": {},
   "source": [
    "# Run ABC"
   ]
  },
  {
   "cell_type": "markdown",
   "metadata": {},
   "source": [
    "## Chr2\n",
    "working on Atmosphere instance in `/vol_c/ABC_AJmodels_update`.\n",
    "Working with file,\n",
    "`input_ABC_OSG_CHTC_HPC_chr2.txt`\n",
    "which is a combination of simulations of chr2 with updated prior built from chr1 posterior from HPC, OSG, and CHTC, and has 140,576 simulations.\n",
    "\n",
    "Use PLS to estimate parameters."
   ]
  },
  {
   "cell_type": "code",
   "execution_count": 3,
   "metadata": {},
   "outputs": [
    {
     "name": "stdout",
     "output_type": "stream",
     "text": [
      "input_ABC_HPC_chr2.txt\t     input_ABC_OSG_CHTC_HPC_chr2.txt\r\n",
      "input_ABC_OSG_CHTC_chr2.txt  run_ABC.ipynb\r\n"
     ]
    }
   ],
   "source": [
    "import sys, os\n",
    "import pandas as pd\n",
    "os.chdir('/vol_c/ABC_AJmodels_update')\n",
    "!ls"
   ]
  },
  {
   "cell_type": "code",
   "execution_count": 2,
   "metadata": {},
   "outputs": [
    {
     "name": "stdout",
     "output_type": "stream",
     "text": [
      "140576 input_ABC_OSG_CHTC_HPC_chr2.txt\r\n"
     ]
    }
   ],
   "source": [
    "!wc -l input_ABC_OSG_CHTC_HPC_chr2.txt"
   ]
  },
  {
   "cell_type": "markdown",
   "metadata": {},
   "source": [
    "### 0. Remove rows with missing data"
   ]
  },
  {
   "cell_type": "code",
   "execution_count": 5,
   "metadata": {},
   "outputs": [],
   "source": [
    "pd.read_csv('input_ABC_OSG_CHTC_HPC_chr2.txt', sep = '\\t', low_memory=False).dropna(axis=0, how='any').to_csv('input_ABC_OSG_CHTC_HPC_chr2_dropna.txt', sep='\\t', index=False)"
   ]
  },
  {
   "cell_type": "code",
   "execution_count": 7,
   "metadata": {},
   "outputs": [],
   "source": [
    "%%bash\n",
    "mv input_ABC_OSG_CHTC_HPC_chr2_dropna.txt input_ABC_OSG_CHTC_HPC_chr2.txt"
   ]
  },
  {
   "cell_type": "code",
   "execution_count": 8,
   "metadata": {},
   "outputs": [
    {
     "name": "stdout",
     "output_type": "stream",
     "text": [
      "132970 input_ABC_OSG_CHTC_HPC_chr2.txt\r\n"
     ]
    }
   ],
   "source": [
    "!wc -l input_ABC_OSG_CHTC_HPC_chr2.txt"
   ]
  },
  {
   "cell_type": "markdown",
   "metadata": {},
   "source": [
    "After removing missing data, there are 132,970 simulations."
   ]
  },
  {
   "cell_type": "markdown",
   "metadata": {},
   "source": [
    "## 1. Find PLS components\n",
    "Needed to install R package \"pls\"\n",
    "```\n",
    "R\n",
    ">install.packages(\"pls\")\n",
    "```\n",
    "\n",
    "Use rscript, provided by Consuleo (from old version of ABCtoolbox)\n",
    "```\n",
    "Rscript /vol_c/src/abctoolbox-public/findPLS.r /vol_c/ABC_AJmodels_update/ input_ABC_OSG_CHTC_HPC_chr2.txt 24 204 1 23 180\n",
    "```\n",
    "\n",
    "This creates the output files  \n",
    "`Routput_input_ABC_OSG_CHTC_HPC_chr2.txt`\n",
    "`RMSE_input_ABC_OSG_CHTC_HPC_chr2.pdf`\n",
    "\n",
    "Took 25 min to run."
   ]
  },
  {
   "cell_type": "markdown",
   "metadata": {},
   "source": [
    "## 2. Transform stats"
   ]
  }
 ],
 "metadata": {
  "kernelspec": {
   "display_name": "Python 3",
   "language": "python",
   "name": "python3"
  },
  "language_info": {
   "codemirror_mode": {
    "name": "ipython",
    "version": 3
   },
   "file_extension": ".py",
   "mimetype": "text/x-python",
   "name": "python",
   "nbconvert_exporter": "python",
   "pygments_lexer": "ipython3",
   "version": "3.6.4"
  }
 },
 "nbformat": 4,
 "nbformat_minor": 2
}
