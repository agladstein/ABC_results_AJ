{
 "cells": [
  {
   "cell_type": "markdown",
   "metadata": {},
   "source": [
    "# Run ABC"
   ]
  },
  {
   "cell_type": "markdown",
   "metadata": {},
   "source": [
    "## Chr2\n",
    "working on Atmosphere instance in `/vol_c/ABC_AJmodels_update`.\n",
    "Working with file,\n",
    "`input_ABC_OSG_CHTC_HPC_chr2.txt`\n",
    "which is a combination of simulations of chr2 with updated prior built from chr1 posterior from HPC, OSG, and CHTC, and has 162,752 simulations.\n",
    "\n",
    "Use PLS to estimate parameters."
   ]
  },
  {
   "cell_type": "code",
   "execution_count": 3,
   "metadata": {},
   "outputs": [
    {
     "name": "stdout",
     "output_type": "stream",
     "text": [
      "input_ABC_HPC_chr2.txt\t\t RMSE_input_ABC_OSG_CHTC_HPC_chr2.txt.pdf\r\n",
      "input_ABC_OSG_CHTC_chr2.txt\t Routput_input_ABC_OSG_CHTC_HPC_chr2.txt\r\n",
      "input_ABC_OSG_CHTC_HPC_chr2.txt\r\n"
     ]
    }
   ],
   "source": [
    "import sys, os\n",
    "import pandas as pd\n",
    "os.chdir('/vol_c/ABC_AJmodels_update')\n",
    "!ls"
   ]
  },
  {
   "cell_type": "code",
   "execution_count": 3,
   "metadata": {},
   "outputs": [
    {
     "name": "stdout",
     "output_type": "stream",
     "text": [
      "162752 input_ABC_OSG_CHTC_HPC_chr2.txt\r\n"
     ]
    }
   ],
   "source": [
    "!wc -l input_ABC_OSG_CHTC_HPC_chr2.txt"
   ]
  },
  {
   "cell_type": "markdown",
   "metadata": {},
   "source": [
    "### 0. Remove rows with missing data"
   ]
  },
  {
   "cell_type": "code",
   "execution_count": 5,
   "metadata": {},
   "outputs": [],
   "source": [
    "pd.read_csv('input_ABC_OSG_CHTC_HPC_chr2.txt', sep = '\\t', low_memory=False).dropna(axis=0, how='any').to_csv('input_ABC_OSG_CHTC_HPC_chr2_dropna.txt', sep='\\t', index=False)"
   ]
  },
  {
   "cell_type": "code",
   "execution_count": 6,
   "metadata": {},
   "outputs": [],
   "source": [
    "%%bash\n",
    "mv input_ABC_OSG_CHTC_HPC_chr2_dropna.txt input_ABC_OSG_CHTC_HPC_chr2.txt"
   ]
  },
  {
   "cell_type": "code",
   "execution_count": 7,
   "metadata": {},
   "outputs": [
    {
     "name": "stdout",
     "output_type": "stream",
     "text": [
      "162752 input_ABC_OSG_CHTC_HPC_chr2.txt\r\n"
     ]
    }
   ],
   "source": [
    "!wc -l input_ABC_OSG_CHTC_HPC_chr2.txt"
   ]
  },
  {
   "cell_type": "markdown",
   "metadata": {},
   "source": [
    "After removing missing data, there are 162,752 simulations."
   ]
  },
  {
   "cell_type": "markdown",
   "metadata": {},
   "source": [
    "## 1. Find PLS components\n",
    "Needed to install R package \"pls\"\n",
    "```\n",
    "R\n",
    ">install.packages(\"pls\")\n",
    "```\n",
    "\n",
    "Use rscript, provided by Consuleo (from old version of ABCtoolbox)\n",
    "```\n",
    "Rscript /vol_c/src/abctoolbox-public/findPLS.r /vol_c/ABC_AJmodels_update/ input_ABC_OSG_CHTC_HPC_chr2.txt 24 204 1 23 180\n",
    "```\n",
    "\n",
    "This creates the output files  \n",
    "`Routput_input_ABC_OSG_CHTC_HPC_chr2.txt`\n",
    "`RMSE_input_ABC_OSG_CHTC_HPC_chr2.pdf`\n",
    "\n",
    "Took 25 min to run."
   ]
  },
  {
   "cell_type": "markdown",
   "metadata": {},
   "source": [
    "## 2. Transform stats"
   ]
  },
  {
   "cell_type": "code",
   "execution_count": 10,
   "metadata": {},
   "outputs": [],
   "source": [
    "file = open(\"test_ABC_transform_real.txt\",\"w\") \n",
    "file.write(\"task transform\\n\") \n",
    "file.write(\"input /vol_c/ABC_data/chr2/real_output_M23_IBD.summary\\n\") \n",
    "file.write(\"output real_output_M23_IBD_chr2_transformed.txt\\n\")\n",
    "file.write(\"linearComb Routput_input_ABC_OSG_CHTC_HPC_chr2.txt\\n\")\n",
    "file.write(\"boxcox 1\\n\")\n",
    "file.write(\"logFile real_output_M23_IBD_chr2_transformed.log\\n\")\n",
    "file.close() "
   ]
  },
  {
   "cell_type": "code",
   "execution_count": 11,
   "metadata": {},
   "outputs": [
    {
     "name": "stdout",
     "output_type": "stream",
     "text": [
      "\n",
      " ABCtoolbox 2.0 \n",
      "****************\n",
      "- Reading inputfile 'test_ABC_transform_real.txt' ... done!\n",
      "- Running in silent mode (use 'verbose' to get a status report on screen)\n",
      "\n",
      "\n"
     ]
    }
   ],
   "source": [
    "%%bash\n",
    "ABCtoolbox test_ABC_transform_real.txt"
   ]
  },
  {
   "cell_type": "code",
   "execution_count": 21,
   "metadata": {},
   "outputs": [],
   "source": [
    "file = open(\"test_ABC_transform_sim.txt\",\"w\") \n",
    "file.write(\"task transform\\n\") \n",
    "file.write(\"input input_ABC_OSG_CHTC_HPC_chr2.txt\\n\") \n",
    "file.write(\"output input_ABC_OSG_CHTC_HPC_chr2_transformed.txt\\n\")\n",
    "file.write(\"linearComb Routput_input_ABC_OSG_CHTC_HPC_chr2.txt\\n\")\n",
    "file.write(\"boxcox 1\\n\")\n",
    "file.write(\"logFile input_ABC_OSG_CHTC_HPC_chr2_transformed.log\\n\")\n",
    "file.close() "
   ]
  },
  {
   "cell_type": "code",
   "execution_count": 13,
   "metadata": {},
   "outputs": [
    {
     "name": "stdout",
     "output_type": "stream",
     "text": [
      "\n",
      " ABCtoolbox 2.0 \n",
      "****************\n",
      "- Reading inputfile 'test_ABC_transform_sim.txt' ... done!\n",
      "- Running in silent mode (use 'verbose' to get a status report on screen)\n",
      "\n",
      "\n"
     ]
    }
   ],
   "source": [
    "%%bash\n",
    "ABCtoolbox test_ABC_transform_sim.txt"
   ]
  },
  {
   "cell_type": "markdown",
   "metadata": {},
   "source": [
    "## 3. Estimate parameters"
   ]
  },
  {
   "cell_type": "markdown",
   "metadata": {},
   "source": [
    "### 3.a. Reduce number of components to use for estimation"
   ]
  },
  {
   "cell_type": "code",
   "execution_count": 14,
   "metadata": {},
   "outputs": [],
   "source": [
    "%%bash\n",
    "cut -f-24,25-34 input_ABC_OSG_CHTC_HPC_chr2_transformed.txt >input_ABC_OSG_CHTC_HPC_chr2_transformed_10pls.txt\n",
    "cut -f2-11 real_output_M23_IBD_chr2_transformed.txt >real_output_M23_IBD_chr2_transformed_10pls.txt"
   ]
  },
  {
   "cell_type": "code",
   "execution_count": 15,
   "metadata": {},
   "outputs": [
    {
     "name": "stdout",
     "output_type": "stream",
     "text": [
      "TMJ\tTAEW\tTm\tAsc_NAF\tAsc_NEU\tAsc_NCHB\tLog10_NCEU\tTgrowth_Af\tTAF\tTeu_as\tTAg\n",
      "342.273\t15.2525\t20.7778\t8\t14\t17\t3.76938\t1264\t2557\t2541\t5\n"
     ]
    }
   ],
   "source": [
    "%%bash\n",
    "cut -f10-15,18,20-23 input_ABC_OSG_CHTC_HPC_chr2_transformed_10pls.txt | head -2"
   ]
  },
  {
   "cell_type": "markdown",
   "metadata": {},
   "source": [
    "### 3.b. Estimate with ABCtoolbox"
   ]
  },
  {
   "cell_type": "code",
   "execution_count": 19,
   "metadata": {},
   "outputs": [],
   "source": [
    "sim_number = sum(1 for line in open('input_ABC_OSG_CHTC_HPC_chr2_transformed_10pls.txt'))\n",
    "\n",
    "file = open(\"test_ABC_estimate_PLS.txt\",\"w\") \n",
    "file.write(\"task estimate\\n\")\n",
    "file.write(\"simName input_ABC_OSG_CHTC_HPC_chr2_transformed_10pls.txt\\n\")\n",
    "file.write(\"obsName real_output_M23_IBD_chr2_transformed_10pls.txt\\n\")\n",
    "file.write(\"params 2-12\\n\")\n",
    "file.write(\"numRetained 1000\\n\")\n",
    "file.write(\"maxReadSims {}\\n\".format(sim_number))\n",
    "file.write(\"diracPeakWidth 0.01\\n\")\n",
    "file.write(\"posteriorDensityPoints 100\\n\")\n",
    "file.write(\"jointPosteriors Log10_NWA,Log10_NEA\\n\")\n",
    "file.write(\"jointPosteriorDensityPoints 100\\n\")\n",
    "file.write(\"writeRetained 0\\n\")\n",
    "file.write(\"outputPrefix ABC_M2_genome_estimate_{}_10pls_1000ret_chr2_\\n\".format(sim_number))\n",
    "file.write(\"logFile ABC_M2_genome_estimate_{}_10pls_1000ret_chr2.log\\n\".format(sim_number))\n",
    "file.write(\"verbose\\n\")\n",
    "file.close()"
   ]
  },
  {
   "cell_type": "code",
   "execution_count": 20,
   "metadata": {},
   "outputs": [
    {
     "name": "stdout",
     "output_type": "stream",
     "text": [
      "\n",
      " ABCtoolbox 2.0 \n",
      "****************\n",
      "- Reading inputfile 'test_ABC_estimate_PLS.txt' ... done!\n",
      "- Writing log to 'ABC_M2_genome_estimate_162752_10pls_1000ret_chr2.log'\n",
      "- Initializing random generator ... done with seed 157773528!\n",
      "- Reading observed data file 'real_output_M23_IBD_chr2_transformed_10pls.txt' ... done!\n",
      "   -> 1 data sets with 10 statistics each.\n",
      "- Reading files with simulations:\n",
      "   - Reading up to 162752 simulations from file 'input_ABC_OSG_CHTC_HPC_chr2_transformed_10pls.txt' ...\r",
      "   - Reading up to 162752 simulations from file 'input_ABC_OSG_CHTC_HPC_chr2_transformed_10pls.txt' ... (1%)\r",
      "   - Reading up to 162752 simulations from file 'input_ABC_OSG_CHTC_HPC_chr2_transformed_10pls.txt' ... (2%)\r",
      "   - Reading up to 162752 simulations from file 'input_ABC_OSG_CHTC_HPC_chr2_transformed_10pls.txt' ... (3%)\r",
      "   - Reading up to 162752 simulations from file 'input_ABC_OSG_CHTC_HPC_chr2_transformed_10pls.txt' ... (4%)\r",
      "   - Reading up to 162752 simulations from file 'input_ABC_OSG_CHTC_HPC_chr2_transformed_10pls.txt' ... (5%)\r",
      "   - Reading up to 162752 simulations from file 'input_ABC_OSG_CHTC_HPC_chr2_transformed_10pls.txt' ... (6%)\r",
      "   - Reading up to 162752 simulations from file 'input_ABC_OSG_CHTC_HPC_chr2_transformed_10pls.txt' ... (7%)\r",
      "   - Reading up to 162752 simulations from file 'input_ABC_OSG_CHTC_HPC_chr2_transformed_10pls.txt' ... (8%)\r",
      "   - Reading up to 162752 simulations from file 'input_ABC_OSG_CHTC_HPC_chr2_transformed_10pls.txt' ... (9%)\r",
      "   - Reading up to 162752 simulations from file 'input_ABC_OSG_CHTC_HPC_chr2_transformed_10pls.txt' ... (10%)\r",
      "   - Reading up to 162752 simulations from file 'input_ABC_OSG_CHTC_HPC_chr2_transformed_10pls.txt' ... (11%)\r",
      "   - Reading up to 162752 simulations from file 'input_ABC_OSG_CHTC_HPC_chr2_transformed_10pls.txt' ... (12%)\r",
      "   - Reading up to 162752 simulations from file 'input_ABC_OSG_CHTC_HPC_chr2_transformed_10pls.txt' ... (13%)\r",
      "   - Reading up to 162752 simulations from file 'input_ABC_OSG_CHTC_HPC_chr2_transformed_10pls.txt' ... (14%)\r",
      "   - Reading up to 162752 simulations from file 'input_ABC_OSG_CHTC_HPC_chr2_transformed_10pls.txt' ... (15%)\r",
      "   - Reading up to 162752 simulations from file 'input_ABC_OSG_CHTC_HPC_chr2_transformed_10pls.txt' ... (16%)\r",
      "   - Reading up to 162752 simulations from file 'input_ABC_OSG_CHTC_HPC_chr2_transformed_10pls.txt' ... (17%)\r",
      "   - Reading up to 162752 simulations from file 'input_ABC_OSG_CHTC_HPC_chr2_transformed_10pls.txt' ... (18%)\r",
      "   - Reading up to 162752 simulations from file 'input_ABC_OSG_CHTC_HPC_chr2_transformed_10pls.txt' ... (19%)\r",
      "   - Reading up to 162752 simulations from file 'input_ABC_OSG_CHTC_HPC_chr2_transformed_10pls.txt' ... (20%)\r",
      "   - Reading up to 162752 simulations from file 'input_ABC_OSG_CHTC_HPC_chr2_transformed_10pls.txt' ... (21%)\r",
      "   - Reading up to 162752 simulations from file 'input_ABC_OSG_CHTC_HPC_chr2_transformed_10pls.txt' ... (22%)\r",
      "   - Reading up to 162752 simulations from file 'input_ABC_OSG_CHTC_HPC_chr2_transformed_10pls.txt' ... (23%)\r",
      "   - Reading up to 162752 simulations from file 'input_ABC_OSG_CHTC_HPC_chr2_transformed_10pls.txt' ... (24%)\r",
      "   - Reading up to 162752 simulations from file 'input_ABC_OSG_CHTC_HPC_chr2_transformed_10pls.txt' ... (25%)\r",
      "   - Reading up to 162752 simulations from file 'input_ABC_OSG_CHTC_HPC_chr2_transformed_10pls.txt' ... (26%)\r",
      "   - Reading up to 162752 simulations from file 'input_ABC_OSG_CHTC_HPC_chr2_transformed_10pls.txt' ... (27%)\r",
      "   - Reading up to 162752 simulations from file 'input_ABC_OSG_CHTC_HPC_chr2_transformed_10pls.txt' ... (28%)\r",
      "   - Reading up to 162752 simulations from file 'input_ABC_OSG_CHTC_HPC_chr2_transformed_10pls.txt' ... (29%)\r",
      "   - Reading up to 162752 simulations from file 'input_ABC_OSG_CHTC_HPC_chr2_transformed_10pls.txt' ... (30%)\r",
      "   - Reading up to 162752 simulations from file 'input_ABC_OSG_CHTC_HPC_chr2_transformed_10pls.txt' ... (31%)\r",
      "   - Reading up to 162752 simulations from file 'input_ABC_OSG_CHTC_HPC_chr2_transformed_10pls.txt' ... (32%)\r",
      "   - Reading up to 162752 simulations from file 'input_ABC_OSG_CHTC_HPC_chr2_transformed_10pls.txt' ... (33%)\r",
      "   - Reading up to 162752 simulations from file 'input_ABC_OSG_CHTC_HPC_chr2_transformed_10pls.txt' ... (34%)\r",
      "   - Reading up to 162752 simulations from file 'input_ABC_OSG_CHTC_HPC_chr2_transformed_10pls.txt' ... (35%)\r",
      "   - Reading up to 162752 simulations from file 'input_ABC_OSG_CHTC_HPC_chr2_transformed_10pls.txt' ... (36%)\r",
      "   - Reading up to 162752 simulations from file 'input_ABC_OSG_CHTC_HPC_chr2_transformed_10pls.txt' ... (37%)\r",
      "   - Reading up to 162752 simulations from file 'input_ABC_OSG_CHTC_HPC_chr2_transformed_10pls.txt' ... (38%)\r",
      "   - Reading up to 162752 simulations from file 'input_ABC_OSG_CHTC_HPC_chr2_transformed_10pls.txt' ... (39%)\r",
      "   - Reading up to 162752 simulations from file 'input_ABC_OSG_CHTC_HPC_chr2_transformed_10pls.txt' ... (40%)\r",
      "   - Reading up to 162752 simulations from file 'input_ABC_OSG_CHTC_HPC_chr2_transformed_10pls.txt' ... (41%)\r",
      "   - Reading up to 162752 simulations from file 'input_ABC_OSG_CHTC_HPC_chr2_transformed_10pls.txt' ... (42%)\r",
      "   - Reading up to 162752 simulations from file 'input_ABC_OSG_CHTC_HPC_chr2_transformed_10pls.txt' ... (43%)\r",
      "   - Reading up to 162752 simulations from file 'input_ABC_OSG_CHTC_HPC_chr2_transformed_10pls.txt' ... (44%)\r",
      "   - Reading up to 162752 simulations from file 'input_ABC_OSG_CHTC_HPC_chr2_transformed_10pls.txt' ... (45%)\r",
      "   - Reading up to 162752 simulations from file 'input_ABC_OSG_CHTC_HPC_chr2_transformed_10pls.txt' ... (46%)\r",
      "   - Reading up to 162752 simulations from file 'input_ABC_OSG_CHTC_HPC_chr2_transformed_10pls.txt' ... (47%)\r",
      "   - Reading up to 162752 simulations from file 'input_ABC_OSG_CHTC_HPC_chr2_transformed_10pls.txt' ... (48%)\r",
      "   - Reading up to 162752 simulations from file 'input_ABC_OSG_CHTC_HPC_chr2_transformed_10pls.txt' ... (49%)\r",
      "   - Reading up to 162752 simulations from file 'input_ABC_OSG_CHTC_HPC_chr2_transformed_10pls.txt' ... (50%)\r",
      "   - Reading up to 162752 simulations from file 'input_ABC_OSG_CHTC_HPC_chr2_transformed_10pls.txt' ... (51%)\r",
      "   - Reading up to 162752 simulations from file 'input_ABC_OSG_CHTC_HPC_chr2_transformed_10pls.txt' ... (52%)\r",
      "   - Reading up to 162752 simulations from file 'input_ABC_OSG_CHTC_HPC_chr2_transformed_10pls.txt' ... (53%)\r",
      "   - Reading up to 162752 simulations from file 'input_ABC_OSG_CHTC_HPC_chr2_transformed_10pls.txt' ... (54%)\r",
      "   - Reading up to 162752 simulations from file 'input_ABC_OSG_CHTC_HPC_chr2_transformed_10pls.txt' ... (55%)\r",
      "   - Reading up to 162752 simulations from file 'input_ABC_OSG_CHTC_HPC_chr2_transformed_10pls.txt' ... (56%)\r",
      "   - Reading up to 162752 simulations from file 'input_ABC_OSG_CHTC_HPC_chr2_transformed_10pls.txt' ... (57%)\r",
      "   - Reading up to 162752 simulations from file 'input_ABC_OSG_CHTC_HPC_chr2_transformed_10pls.txt' ... (58%)\r",
      "   - Reading up to 162752 simulations from file 'input_ABC_OSG_CHTC_HPC_chr2_transformed_10pls.txt' ... (59%)\r",
      "   - Reading up to 162752 simulations from file 'input_ABC_OSG_CHTC_HPC_chr2_transformed_10pls.txt' ... (60%)\r",
      "   - Reading up to 162752 simulations from file 'input_ABC_OSG_CHTC_HPC_chr2_transformed_10pls.txt' ... (61%)\r",
      "   - Reading up to 162752 simulations from file 'input_ABC_OSG_CHTC_HPC_chr2_transformed_10pls.txt' ... (62%)\r",
      "   - Reading up to 162752 simulations from file 'input_ABC_OSG_CHTC_HPC_chr2_transformed_10pls.txt' ... (63%)\r",
      "   - Reading up to 162752 simulations from file 'input_ABC_OSG_CHTC_HPC_chr2_transformed_10pls.txt' ... (64%)\r",
      "   - Reading up to 162752 simulations from file 'input_ABC_OSG_CHTC_HPC_chr2_transformed_10pls.txt' ... (65%)\r",
      "   - Reading up to 162752 simulations from file 'input_ABC_OSG_CHTC_HPC_chr2_transformed_10pls.txt' ... (66%)\r",
      "   - Reading up to 162752 simulations from file 'input_ABC_OSG_CHTC_HPC_chr2_transformed_10pls.txt' ... (67%)\r",
      "   - Reading up to 162752 simulations from file 'input_ABC_OSG_CHTC_HPC_chr2_transformed_10pls.txt' ... (68%)\r",
      "   - Reading up to 162752 simulations from file 'input_ABC_OSG_CHTC_HPC_chr2_transformed_10pls.txt' ... (69%)\r",
      "   - Reading up to 162752 simulations from file 'input_ABC_OSG_CHTC_HPC_chr2_transformed_10pls.txt' ... (70%)\r",
      "   - Reading up to 162752 simulations from file 'input_ABC_OSG_CHTC_HPC_chr2_transformed_10pls.txt' ... (71%)\r",
      "   - Reading up to 162752 simulations from file 'input_ABC_OSG_CHTC_HPC_chr2_transformed_10pls.txt' ... (72%)\r",
      "   - Reading up to 162752 simulations from file 'input_ABC_OSG_CHTC_HPC_chr2_transformed_10pls.txt' ... (73%)\r",
      "   - Reading up to 162752 simulations from file 'input_ABC_OSG_CHTC_HPC_chr2_transformed_10pls.txt' ... (74%)\r",
      "   - Reading up to 162752 simulations from file 'input_ABC_OSG_CHTC_HPC_chr2_transformed_10pls.txt' ... (75%)\r",
      "   - Reading up to 162752 simulations from file 'input_ABC_OSG_CHTC_HPC_chr2_transformed_10pls.txt' ... (76%)\r",
      "   - Reading up to 162752 simulations from file 'input_ABC_OSG_CHTC_HPC_chr2_transformed_10pls.txt' ... (77%)\r",
      "   - Reading up to 162752 simulations from file 'input_ABC_OSG_CHTC_HPC_chr2_transformed_10pls.txt' ... (78%)\r",
      "   - Reading up to 162752 simulations from file 'input_ABC_OSG_CHTC_HPC_chr2_transformed_10pls.txt' ... (79%)\r",
      "   - Reading up to 162752 simulations from file 'input_ABC_OSG_CHTC_HPC_chr2_transformed_10pls.txt' ... (80%)\r",
      "   - Reading up to 162752 simulations from file 'input_ABC_OSG_CHTC_HPC_chr2_transformed_10pls.txt' ... (81%)\r",
      "   - Reading up to 162752 simulations from file 'input_ABC_OSG_CHTC_HPC_chr2_transformed_10pls.txt' ... (82%)\r",
      "   - Reading up to 162752 simulations from file 'input_ABC_OSG_CHTC_HPC_chr2_transformed_10pls.txt' ... (83%)\r",
      "   - Reading up to 162752 simulations from file 'input_ABC_OSG_CHTC_HPC_chr2_transformed_10pls.txt' ... (84%)\r",
      "   - Reading up to 162752 simulations from file 'input_ABC_OSG_CHTC_HPC_chr2_transformed_10pls.txt' ... (85%)\r",
      "   - Reading up to 162752 simulations from file 'input_ABC_OSG_CHTC_HPC_chr2_transformed_10pls.txt' ... (86%)\r",
      "   - Reading up to 162752 simulations from file 'input_ABC_OSG_CHTC_HPC_chr2_transformed_10pls.txt' ... (87%)\r",
      "   - Reading up to 162752 simulations from file 'input_ABC_OSG_CHTC_HPC_chr2_transformed_10pls.txt' ... (88%)\r",
      "   - Reading up to 162752 simulations from file 'input_ABC_OSG_CHTC_HPC_chr2_transformed_10pls.txt' ... (89%)\r",
      "   - Reading up to 162752 simulations from file 'input_ABC_OSG_CHTC_HPC_chr2_transformed_10pls.txt' ... (90%)\r",
      "   - Reading up to 162752 simulations from file 'input_ABC_OSG_CHTC_HPC_chr2_transformed_10pls.txt' ... (91%)\r",
      "   - Reading up to 162752 simulations from file 'input_ABC_OSG_CHTC_HPC_chr2_transformed_10pls.txt' ... (92%)\r",
      "   - Reading up to 162752 simulations from file 'input_ABC_OSG_CHTC_HPC_chr2_transformed_10pls.txt' ... (93%)\r",
      "   - Reading up to 162752 simulations from file 'input_ABC_OSG_CHTC_HPC_chr2_transformed_10pls.txt' ... (94%)\r",
      "   - Reading up to 162752 simulations from file 'input_ABC_OSG_CHTC_HPC_chr2_transformed_10pls.txt' ... (95%)\r",
      "   - Reading up to 162752 simulations from file 'input_ABC_OSG_CHTC_HPC_chr2_transformed_10pls.txt' ... (96%)\r",
      "   - Reading up to 162752 simulations from file 'input_ABC_OSG_CHTC_HPC_chr2_transformed_10pls.txt' ... (97%)\r",
      "   - Reading up to 162752 simulations from file 'input_ABC_OSG_CHTC_HPC_chr2_transformed_10pls.txt' ... (98%)\r",
      "   - Reading up to 162752 simulations from file 'input_ABC_OSG_CHTC_HPC_chr2_transformed_10pls.txt' ... (99%)\r",
      "   - Reading up to 162752 simulations from file 'input_ABC_OSG_CHTC_HPC_chr2_transformed_10pls.txt' ... done!   \n",
      "      -> 162751 simulations with 11 parameters and 10 statistics each.\n",
      "   - Checking for highly correlated statsitics:\n",
      "      - Calculate pairwise correlations ...done!\n",
      "      - No correlations exceeded the chosen threshold of 0.95.\n",
      "   - Checking for highly correlated parameters:\n",
      "      - Calculate pairwise correlations ...done!\n",
      "      - No correlations exceeded the chosen threshold of 0.95.\n",
      "- Performing an ABC-GLM standard estimations:\n",
      "   - Standardizing Parameters ... done!\n",
      "   - Performing estimations for observed data set 0:\n",
      "      - Calculating distances ... done!\n",
      "      - Retaining the best 1000 simulations ... done!\n",
      "         -> 1000 simulations retained with tolerance 27.1229.\n",
      "      - Writing retained ... done!\n",
      "      - Calculating Tukey depth of observed data:\n",
      "         - Tukey depth = 0.00800801\n",
      "      - Performing local linear regression ... done!\n",
      "      - Preparing posterior density calculation ... done!\n",
      "      - Calculating marginal posterior densities for 11 parameters ... done!\n",
      "      - Writing marginal posterior densities ... done!\n",
      "      - Writing posterior characteristics ... done!\n",
      "      - Computing joint posterior distribution(s):\n",
      "         - Computing joint posterior densities for parameters 'Log10_NWA' and 'Log10_NEA':\n",
      "            - Preparing grid of 100 equally spaced positions per parameter ...  done!\n",
      "            - Computing density at 10000 positions ... (0%)\r",
      "            - Computing density at 10000 positions ... (1%)\r",
      "            - Computing density at 10000 positions ... (2%)\r",
      "            - Computing density at 10000 positions ... (3%)\r",
      "            - Computing density at 10000 positions ... (4%)\r",
      "            - Computing density at 10000 positions ... (5%)\r",
      "            - Computing density at 10000 positions ... (6%)\r",
      "            - Computing density at 10000 positions ... (7%)\r",
      "            - Computing density at 10000 positions ... (8%)\r",
      "            - Computing density at 10000 positions ... (9%)\r",
      "            - Computing density at 10000 positions ... (10%)\r",
      "            - Computing density at 10000 positions ... (11%)\r",
      "            - Computing density at 10000 positions ... (12%)\r",
      "            - Computing density at 10000 positions ... (13%)\r",
      "            - Computing density at 10000 positions ... (14%)\r",
      "            - Computing density at 10000 positions ... (15%)\r",
      "            - Computing density at 10000 positions ... (16%)\r",
      "            - Computing density at 10000 positions ... (17%)\r",
      "            - Computing density at 10000 positions ... (18%)\r",
      "            - Computing density at 10000 positions ... (19%)\r",
      "            - Computing density at 10000 positions ... (20%)\r",
      "            - Computing density at 10000 positions ... (21%)\r",
      "            - Computing density at 10000 positions ... (22%)\r",
      "            - Computing density at 10000 positions ... (23%)\r",
      "            - Computing density at 10000 positions ... (24%)\r",
      "            - Computing density at 10000 positions ... (25%)\r",
      "            - Computing density at 10000 positions ... (26%)\r",
      "            - Computing density at 10000 positions ... (27%)\r",
      "            - Computing density at 10000 positions ... (28%)\r",
      "            - Computing density at 10000 positions ... (29%)\r",
      "            - Computing density at 10000 positions ... (30%)\r",
      "            - Computing density at 10000 positions ... (31%)\r",
      "            - Computing density at 10000 positions ... (32%)\r",
      "            - Computing density at 10000 positions ... (33%)\r",
      "            - Computing density at 10000 positions ... (34%)\r",
      "            - Computing density at 10000 positions ... (35%)\r",
      "            - Computing density at 10000 positions ... (36%)\r",
      "            - Computing density at 10000 positions ... (37%)\r",
      "            - Computing density at 10000 positions ... (38%)\r",
      "            - Computing density at 10000 positions ... (39%)\r",
      "            - Computing density at 10000 positions ... (40%)\r",
      "            - Computing density at 10000 positions ... (41%)\r",
      "            - Computing density at 10000 positions ... (42%)\r",
      "            - Computing density at 10000 positions ... (43%)\r",
      "            - Computing density at 10000 positions ... (44%)\r",
      "            - Computing density at 10000 positions ... (45%)\r",
      "            - Computing density at 10000 positions ... (46%)\r",
      "            - Computing density at 10000 positions ... (47%)\r",
      "            - Computing density at 10000 positions ... (48%)\r",
      "            - Computing density at 10000 positions ... (49%)\r",
      "            - Computing density at 10000 positions ... (50%)\r",
      "            - Computing density at 10000 positions ... (51%)\r",
      "            - Computing density at 10000 positions ... (52%)\r",
      "            - Computing density at 10000 positions ... (53%)\r",
      "            - Computing density at 10000 positions ... (54%)\r",
      "            - Computing density at 10000 positions ... (55%)\r",
      "            - Computing density at 10000 positions ... (56%)\r",
      "            - Computing density at 10000 positions ... (57%)\r",
      "            - Computing density at 10000 positions ... (58%)\r",
      "            - Computing density at 10000 positions ... (59%)\r",
      "            - Computing density at 10000 positions ... (60%)\r",
      "            - Computing density at 10000 positions ... (61%)\r",
      "            - Computing density at 10000 positions ... (62%)\r",
      "            - Computing density at 10000 positions ... (63%)\r",
      "            - Computing density at 10000 positions ... (64%)\r",
      "            - Computing density at 10000 positions ... (65%)\r",
      "            - Computing density at 10000 positions ... (66%)\r",
      "            - Computing density at 10000 positions ... (67%)\r",
      "            - Computing density at 10000 positions ... (68%)\r",
      "            - Computing density at 10000 positions ... (69%)\r",
      "            - Computing density at 10000 positions ... (70%)\r",
      "            - Computing density at 10000 positions ... (71%)\r",
      "            - Computing density at 10000 positions ... (72%)\r",
      "            - Computing density at 10000 positions ... (73%)\r",
      "            - Computing density at 10000 positions ... (74%)\r",
      "            - Computing density at 10000 positions ... (75%)\r",
      "            - Computing density at 10000 positions ... (76%)\r",
      "            - Computing density at 10000 positions ... (77%)\r",
      "            - Computing density at 10000 positions ... (78%)\r",
      "            - Computing density at 10000 positions ... (79%)\r",
      "            - Computing density at 10000 positions ... (80%)\r",
      "            - Computing density at 10000 positions ... (81%)\r",
      "            - Computing density at 10000 positions ... (82%)\r",
      "            - Computing density at 10000 positions ... (83%)\r",
      "            - Computing density at 10000 positions ... (84%)\r",
      "            - Computing density at 10000 positions ... (85%)\r",
      "            - Computing density at 10000 positions ... (86%)\r",
      "            - Computing density at 10000 positions ... (87%)\r",
      "            - Computing density at 10000 positions ... (88%)\r",
      "            - Computing density at 10000 positions ... (89%)\r",
      "            - Computing density at 10000 positions ... (90%)\r",
      "            - Computing density at 10000 positions ... (91%)\r",
      "            - Computing density at 10000 positions ... (92%)\r",
      "            - Computing density at 10000 positions ... (93%)\r",
      "            - Computing density at 10000 positions ... (94%)\r",
      "            - Computing density at 10000 positions ... (95%)\r",
      "            - Computing density at 10000 positions ... (96%)\r",
      "            - Computing density at 10000 positions ... (97%)\r",
      "            - Computing density at 10000 positions ... (98%)\r",
      "            - Computing density at 10000 positions ... (99%)\r",
      "            - Computing density at 10000 positions ... (100%)\r",
      "            - Computing density at 10000 positions ... done!        \n",
      "         - Writing file(s) with joint posterior estimates ... done!\n",
      "      - Writing model fit ... done!\n",
      "      - Estimations for data set 0 finished successfully!\n",
      "- Program terminated in 0.666667 min!\n",
      "\n",
      "\n"
     ]
    }
   ],
   "source": [
    "%%bash\n",
    "ABCtoolbox test_ABC_estimate_PLS.txt"
   ]
  },
  {
   "cell_type": "code",
   "execution_count": 24,
   "metadata": {},
   "outputs": [
    {
     "name": "stdout",
     "output_type": "stream",
     "text": [
      "ABC_M2_genome_estimate_162752_10pls_1000ret_chr2_model0_BestSimsParamStats_Obs0.txt\n",
      "ABC_M2_genome_estimate_162752_10pls_1000ret_chr2_model0_jointPosterior_1_2_Obs0.txt\n",
      "ABC_M2_genome_estimate_162752_10pls_1000ret_chr2_model0_MarginalPosteriorCharacteristics.txt\n",
      "ABC_M2_genome_estimate_162752_10pls_1000ret_chr2_model0_MarginalPosteriorDensities_Obs0.txt\n",
      "ABC_M2_genome_estimate_162752_10pls_1000ret_chr2_modelFit.txt\n"
     ]
    }
   ],
   "source": [
    "%%bash\n",
    "ls ABC_M2_genome_estimate_*_10pls_1000ret_chr2_*"
   ]
  },
  {
   "cell_type": "code",
   "execution_count": 25,
   "metadata": {},
   "outputs": [
    {
     "data": {
      "text/html": [
       "<div>\n",
       "<style scoped>\n",
       "    .dataframe tbody tr th:only-of-type {\n",
       "        vertical-align: middle;\n",
       "    }\n",
       "\n",
       "    .dataframe tbody tr th {\n",
       "        vertical-align: top;\n",
       "    }\n",
       "\n",
       "    .dataframe thead th {\n",
       "        text-align: right;\n",
       "    }\n",
       "</style>\n",
       "<table border=\"1\" class=\"dataframe\">\n",
       "  <thead>\n",
       "    <tr style=\"text-align: right;\">\n",
       "      <th></th>\n",
       "      <th>dataSet</th>\n",
       "      <th>Log10_NWA_mode</th>\n",
       "      <th>Log10_NWA_mean</th>\n",
       "      <th>Log10_NWA_median</th>\n",
       "      <th>Log10_NWA_q50_lower</th>\n",
       "      <th>Log10_NWA_q50_upper</th>\n",
       "      <th>Log10_NWA_q90_lower</th>\n",
       "      <th>Log10_NWA_q90_upper</th>\n",
       "      <th>Log10_NWA_q95_lower</th>\n",
       "      <th>Log10_NWA_q95_upper</th>\n",
       "      <th>...</th>\n",
       "      <th>Tm_q99_lower</th>\n",
       "      <th>Tm_q99_upper</th>\n",
       "      <th>Tm_HDI50_lower</th>\n",
       "      <th>Tm_HDI50_upper</th>\n",
       "      <th>Tm_HDI90_lower</th>\n",
       "      <th>Tm_HDI90_upper</th>\n",
       "      <th>Tm_HDI95_lower</th>\n",
       "      <th>Tm_HDI95_upper</th>\n",
       "      <th>Tm_HDI99_lower</th>\n",
       "      <th>Tm_HDI99_upper</th>\n",
       "    </tr>\n",
       "  </thead>\n",
       "  <tbody>\n",
       "    <tr>\n",
       "      <th>0</th>\n",
       "      <td>0</td>\n",
       "      <td>3.82222</td>\n",
       "      <td>4.72574</td>\n",
       "      <td>4.69512</td>\n",
       "      <td>3.89899</td>\n",
       "      <td>5.52033</td>\n",
       "      <td>3.24845</td>\n",
       "      <td>6.3321</td>\n",
       "      <td>3.13773</td>\n",
       "      <td>6.48794</td>\n",
       "      <td>...</td>\n",
       "      <td>4.108</td>\n",
       "      <td>34.4626</td>\n",
       "      <td>15.1212</td>\n",
       "      <td>25.3696</td>\n",
       "      <td>8.9798</td>\n",
       "      <td>32.1398</td>\n",
       "      <td>7.28178</td>\n",
       "      <td>33.5455</td>\n",
       "      <td>4.89666</td>\n",
       "      <td>35</td>\n",
       "    </tr>\n",
       "  </tbody>\n",
       "</table>\n",
       "<p>1 rows × 210 columns</p>\n",
       "</div>"
      ],
      "text/plain": [
       "   dataSet  Log10_NWA_mode  Log10_NWA_mean  Log10_NWA_median  \\\n",
       "0        0         3.82222         4.72574           4.69512   \n",
       "\n",
       "   Log10_NWA_q50_lower  Log10_NWA_q50_upper  Log10_NWA_q90_lower  \\\n",
       "0              3.89899              5.52033              3.24845   \n",
       "\n",
       "   Log10_NWA_q90_upper  Log10_NWA_q95_lower  Log10_NWA_q95_upper  \\\n",
       "0               6.3321              3.13773              6.48794   \n",
       "\n",
       "        ...        Tm_q99_lower  Tm_q99_upper  Tm_HDI50_lower  Tm_HDI50_upper  \\\n",
       "0       ...               4.108       34.4626         15.1212         25.3696   \n",
       "\n",
       "   Tm_HDI90_lower  Tm_HDI90_upper  Tm_HDI95_lower  Tm_HDI95_upper  \\\n",
       "0          8.9798         32.1398         7.28178         33.5455   \n",
       "\n",
       "   Tm_HDI99_lower  Tm_HDI99_upper  \n",
       "0         4.89666              35  \n",
       "\n",
       "[1 rows x 210 columns]"
      ]
     },
     "execution_count": 25,
     "metadata": {},
     "output_type": "execute_result"
    }
   ],
   "source": [
    "pd.read_csv('ABC_M2_genome_estimate_162752_10pls_1000ret_chr2_model0_MarginalPosteriorCharacteristics.txt', sep = '\\t')"
   ]
  },
  {
   "cell_type": "markdown",
   "metadata": {},
   "source": [
    "## Chr3\n",
    "working on Atmosphere instance in `/vol_c/ABC_AJmodels_update`.\n",
    "Working with file,\n",
    "`input_ABC_OSG_CHTC_HPC_chr3.txt`\n",
    "which is a combination of simulations of chr2 with updated prior built from chr1 posterior from HPC, OSG, and CHTC, and has 134,718 simulations.\n",
    "\n",
    "Use PLS to estimate parameters."
   ]
  },
  {
   "cell_type": "code",
   "execution_count": 8,
   "metadata": {},
   "outputs": [
    {
     "name": "stdout",
     "output_type": "stream",
     "text": [
      "input_ABC_HPC_chr3.txt\r\n",
      "input_ABC_OSG_CHTC_chr3.txt\r\n",
      "input_ABC_OSG_CHTC_HPC_chr3_params.pdf\r\n",
      "input_ABC_OSG_CHTC_HPC_chr3_pca.pdf\r\n",
      "input_ABC_OSG_CHTC_HPC_chr3_stats.pdf\r\n",
      "input_ABC_OSG_CHTC_HPC_chr3.txt\r\n",
      "RMSE_input_ABC_OSG_CHTC_HPC_chr3.txt.pdf\r\n",
      "Routput_input_ABC_OSG_CHTC_HPC_chr3.txt\r\n"
     ]
    }
   ],
   "source": [
    "import sys, os\n",
    "import pandas as pd\n",
    "os.chdir('/vol_c/ABC_AJmodels_update')\n",
    "!ls *chr3*\n",
    "chrom = 3"
   ]
  },
  {
   "cell_type": "code",
   "execution_count": 2,
   "metadata": {},
   "outputs": [
    {
     "name": "stdout",
     "output_type": "stream",
     "text": [
      "134718 input_ABC_OSG_CHTC_HPC_chr3.txt\r\n"
     ]
    }
   ],
   "source": [
    "!wc -l input_ABC_OSG_CHTC_HPC_chr3.txt"
   ]
  },
  {
   "cell_type": "markdown",
   "metadata": {},
   "source": [
    "### Varify simulations\n",
    "- plot the distribution of the parameters, \n",
    "- plot distribution of summary statistics, \n",
    "- PCA of summary statsitics\n",
    "\n",
    "```\n",
    "Rscript /vol_c/src/macsswig_simsaj/dist_plot_stats.R /vol_c/ABC_AJmodels_update/input_ABC_OSG_CHTC_HPC_chr3.txt /vol_c/ABC_data/chr3/real_output_M23_IBD.summary /vol_c/ABC_AJmodels_update/header_M2.txt\n",
    "```"
   ]
  },
  {
   "cell_type": "code",
   "execution_count": 4,
   "metadata": {},
   "outputs": [
    {
     "name": "stdout",
     "output_type": "stream",
     "text": [
      "input_ABC_OSG_CHTC_HPC_chr3_params.pdf\tinput_ABC_OSG_CHTC_HPC_chr3_stats.pdf\r\n",
      "input_ABC_OSG_CHTC_HPC_chr3_pca.pdf\r\n"
     ]
    }
   ],
   "source": [
    "!ls *chr3*.pdf"
   ]
  },
  {
   "cell_type": "markdown",
   "metadata": {},
   "source": [
    "### 0. Remove rows with missing data"
   ]
  },
  {
   "cell_type": "code",
   "execution_count": 5,
   "metadata": {},
   "outputs": [],
   "source": [
    "pd.read_csv('input_ABC_OSG_CHTC_HPC_chr3.txt', sep = '\\t', low_memory=False).dropna(axis=0, how='any').to_csv('input_ABC_OSG_CHTC_HPC_chr3_dropna.txt', sep='\\t', index=False)"
   ]
  },
  {
   "cell_type": "code",
   "execution_count": 6,
   "metadata": {},
   "outputs": [],
   "source": [
    "%%bash\n",
    "mv input_ABC_OSG_CHTC_HPC_chr3_dropna.txt input_ABC_OSG_CHTC_HPC_chr3.txt"
   ]
  },
  {
   "cell_type": "code",
   "execution_count": 7,
   "metadata": {},
   "outputs": [
    {
     "name": "stdout",
     "output_type": "stream",
     "text": [
      "134718 input_ABC_OSG_CHTC_HPC_chr3.txt\r\n"
     ]
    }
   ],
   "source": [
    "!wc -l input_ABC_OSG_CHTC_HPC_chr3.txt"
   ]
  },
  {
   "cell_type": "markdown",
   "metadata": {},
   "source": [
    "After removing missing data, there are 134,718 simulations."
   ]
  },
  {
   "cell_type": "markdown",
   "metadata": {},
   "source": [
    "## 1. Find PLS components\n",
    "Needed to install R package \"pls\"\n",
    "```\n",
    "R\n",
    ">install.packages(\"pls\")\n",
    "```\n",
    "\n",
    "Use rscript, provided by Consuleo (from old version of ABCtoolbox)\n",
    "```\n",
    "Rscript /vol_c/src/abctoolbox-public/findPLS.r /vol_c/ABC_AJmodels_update/ input_ABC_OSG_CHTC_HPC_chr3.txt 24 204 1 23 180\n",
    "```\n",
    "\n",
    "This creates the output files  \n",
    "`Routput_input_ABC_OSG_CHTC_HPC_chr3.txt`\n",
    "`RMSE_input_ABC_OSG_CHTC_HPC_chr3.pdf`\n",
    "\n",
    "Took 11 min to run."
   ]
  },
  {
   "cell_type": "markdown",
   "metadata": {},
   "source": [
    "## 2. Transform stats"
   ]
  },
  {
   "cell_type": "code",
   "execution_count": 9,
   "metadata": {},
   "outputs": [],
   "source": [
    "file = open(\"test_ABC_transform_real.txt\",\"w\") \n",
    "file.write(\"task transform\\n\") \n",
    "file.write(\"input /vol_c/ABC_data/chr{}/real_output_M23_IBD.summary\\n\".format(chrom)) \n",
    "file.write(\"output real_output_M23_IBD_chr{}_transformed.txt\\n\".format(chrom))\n",
    "file.write(\"linearComb Routput_input_ABC_OSG_CHTC_HPC_chr{}.txt\\n\".format(chrom))\n",
    "file.write(\"boxcox 1\\n\")\n",
    "file.write(\"logFile real_output_M23_IBD_chr{}_transformed.log\\n\".format(chrom))\n",
    "file.close() "
   ]
  },
  {
   "cell_type": "code",
   "execution_count": 10,
   "metadata": {},
   "outputs": [
    {
     "name": "stdout",
     "output_type": "stream",
     "text": [
      "\n",
      " ABCtoolbox 2.0 \n",
      "****************\n",
      "- Reading inputfile 'test_ABC_transform_real.txt' ... done!\n",
      "- Running in silent mode (use 'verbose' to get a status report on screen)\n",
      "\n",
      "\n"
     ]
    }
   ],
   "source": [
    "%%bash\n",
    "ABCtoolbox test_ABC_transform_real.txt"
   ]
  },
  {
   "cell_type": "code",
   "execution_count": 11,
   "metadata": {},
   "outputs": [],
   "source": [
    "file = open(\"test_ABC_transform_sim.txt\",\"w\") \n",
    "file.write(\"task transform\\n\") \n",
    "file.write(\"input input_ABC_OSG_CHTC_HPC_chr{}.txt\\n\".format(chrom)) \n",
    "file.write(\"output input_ABC_OSG_CHTC_HPC_chr{}_transformed.txt\\n\".format(chrom))\n",
    "file.write(\"linearComb Routput_input_ABC_OSG_CHTC_HPC_chr{}.txt\\n\".format(chrom))\n",
    "file.write(\"boxcox 1\\n\")\n",
    "file.write(\"logFile input_ABC_OSG_CHTC_HPC_chr{}_transformed.log\\n\".format(chrom))\n",
    "file.close() "
   ]
  },
  {
   "cell_type": "code",
   "execution_count": 12,
   "metadata": {},
   "outputs": [
    {
     "name": "stdout",
     "output_type": "stream",
     "text": [
      "\n",
      " ABCtoolbox 2.0 \n",
      "****************\n",
      "- Reading inputfile 'test_ABC_transform_sim.txt' ... done!\n",
      "- Running in silent mode (use 'verbose' to get a status report on screen)\n",
      "\n",
      "\n"
     ]
    }
   ],
   "source": [
    "%%bash\n",
    "ABCtoolbox test_ABC_transform_sim.txt"
   ]
  },
  {
   "cell_type": "markdown",
   "metadata": {},
   "source": [
    "## 3. Estimate parameters"
   ]
  },
  {
   "cell_type": "markdown",
   "metadata": {},
   "source": [
    "### 3.a. Reduce number of components to use for estimation"
   ]
  },
  {
   "cell_type": "code",
   "execution_count": 13,
   "metadata": {},
   "outputs": [],
   "source": [
    "%%bash\n",
    "cut -f-24,25-34 input_ABC_OSG_CHTC_HPC_chr3_transformed.txt >input_ABC_OSG_CHTC_HPC_chr3_transformed_10pls.txt\n",
    "cut -f2-11 real_output_M23_IBD_chr3_transformed.txt >real_output_M23_IBD_chr3_transformed_10pls.txt"
   ]
  },
  {
   "cell_type": "code",
   "execution_count": 14,
   "metadata": {},
   "outputs": [
    {
     "name": "stdout",
     "output_type": "stream",
     "text": [
      "TMJ\tTAEW\tTm\tAsc_NAF\tAsc_NEU\tAsc_NCHB\tLog10_NCEU\tTgrowth_Af\tTAF\tTeu_as\tTAg\n",
      "64.2691\t10.7273\t22.3939\t17\t8\t12\t4.75815\t2319\t2143\t1859\t3\n"
     ]
    }
   ],
   "source": [
    "%%bash\n",
    "cut -f10-15,18,20-23 input_ABC_OSG_CHTC_HPC_chr3_transformed_10pls.txt | head -2"
   ]
  },
  {
   "cell_type": "markdown",
   "metadata": {},
   "source": [
    "### 3.b. Estimate with ABCtoolbox"
   ]
  },
  {
   "cell_type": "code",
   "execution_count": 15,
   "metadata": {},
   "outputs": [],
   "source": [
    "sim_number = sum(1 for line in open('input_ABC_OSG_CHTC_HPC_chr{}_transformed_10pls.txt'.format(chrom)))\n",
    "\n",
    "file = open(\"test_ABC_estimate_PLS.txt\",\"w\") \n",
    "file.write(\"task estimate\\n\")\n",
    "file.write(\"simName input_ABC_OSG_CHTC_HPC_chr{}_transformed_10pls.txt\\n\".format(chrom))\n",
    "file.write(\"obsName real_output_M23_IBD_chr{}_transformed_10pls.txt\\n\".format(chrom))\n",
    "file.write(\"params 2-12\\n\")\n",
    "file.write(\"numRetained 1000\\n\")\n",
    "file.write(\"maxReadSims {}\\n\".format(sim_number))\n",
    "file.write(\"diracPeakWidth 0.01\\n\")\n",
    "file.write(\"posteriorDensityPoints 100\\n\")\n",
    "file.write(\"jointPosteriors Log10_NWA,Log10_NEA\\n\")\n",
    "file.write(\"jointPosteriorDensityPoints 100\\n\")\n",
    "file.write(\"writeRetained 0\\n\")\n",
    "file.write(\"outputPrefix ABC_M2_genome_estimate_{}_10pls_1000ret_chr{}_\\n\".format(sim_number, chrom))\n",
    "file.write(\"logFile ABC_M2_genome_estimate_{}_10pls_1000ret_chr{}.log\\n\".format(sim_number, chrom))\n",
    "file.write(\"verbose\\n\")\n",
    "file.close()"
   ]
  },
  {
   "cell_type": "code",
   "execution_count": 16,
   "metadata": {},
   "outputs": [
    {
     "name": "stdout",
     "output_type": "stream",
     "text": [
      "\n",
      " ABCtoolbox 2.0 \n",
      "****************\n",
      "- Reading inputfile 'test_ABC_estimate_PLS.txt' ... done!\n",
      "- Writing log to 'ABC_M2_genome_estimate_134718_10pls_1000ret_chr3.log'\n",
      "- Initializing random generator ... done with seed 97571268!\n",
      "- Reading observed data file 'real_output_M23_IBD_chr3_transformed_10pls.txt' ... done!\n",
      "   -> 1 data sets with 10 statistics each.\n",
      "- Reading files with simulations:\n",
      "   - Reading up to 134718 simulations from file 'input_ABC_OSG_CHTC_HPC_chr3_transformed_10pls.txt' ...\r",
      "   - Reading up to 134718 simulations from file 'input_ABC_OSG_CHTC_HPC_chr3_transformed_10pls.txt' ... (1%)\r",
      "   - Reading up to 134718 simulations from file 'input_ABC_OSG_CHTC_HPC_chr3_transformed_10pls.txt' ... (2%)\r",
      "   - Reading up to 134718 simulations from file 'input_ABC_OSG_CHTC_HPC_chr3_transformed_10pls.txt' ... (3%)\r",
      "   - Reading up to 134718 simulations from file 'input_ABC_OSG_CHTC_HPC_chr3_transformed_10pls.txt' ... (4%)\r",
      "   - Reading up to 134718 simulations from file 'input_ABC_OSG_CHTC_HPC_chr3_transformed_10pls.txt' ... (5%)\r",
      "   - Reading up to 134718 simulations from file 'input_ABC_OSG_CHTC_HPC_chr3_transformed_10pls.txt' ... (6%)\r",
      "   - Reading up to 134718 simulations from file 'input_ABC_OSG_CHTC_HPC_chr3_transformed_10pls.txt' ... (7%)\r",
      "   - Reading up to 134718 simulations from file 'input_ABC_OSG_CHTC_HPC_chr3_transformed_10pls.txt' ... (8%)\r",
      "   - Reading up to 134718 simulations from file 'input_ABC_OSG_CHTC_HPC_chr3_transformed_10pls.txt' ... (9%)\r",
      "   - Reading up to 134718 simulations from file 'input_ABC_OSG_CHTC_HPC_chr3_transformed_10pls.txt' ... (10%)\r",
      "   - Reading up to 134718 simulations from file 'input_ABC_OSG_CHTC_HPC_chr3_transformed_10pls.txt' ... (11%)\r",
      "   - Reading up to 134718 simulations from file 'input_ABC_OSG_CHTC_HPC_chr3_transformed_10pls.txt' ... (12%)\r",
      "   - Reading up to 134718 simulations from file 'input_ABC_OSG_CHTC_HPC_chr3_transformed_10pls.txt' ... (13%)\r",
      "   - Reading up to 134718 simulations from file 'input_ABC_OSG_CHTC_HPC_chr3_transformed_10pls.txt' ... (14%)\r",
      "   - Reading up to 134718 simulations from file 'input_ABC_OSG_CHTC_HPC_chr3_transformed_10pls.txt' ... (15%)\r",
      "   - Reading up to 134718 simulations from file 'input_ABC_OSG_CHTC_HPC_chr3_transformed_10pls.txt' ... (16%)\r",
      "   - Reading up to 134718 simulations from file 'input_ABC_OSG_CHTC_HPC_chr3_transformed_10pls.txt' ... (17%)\r",
      "   - Reading up to 134718 simulations from file 'input_ABC_OSG_CHTC_HPC_chr3_transformed_10pls.txt' ... (18%)\r",
      "   - Reading up to 134718 simulations from file 'input_ABC_OSG_CHTC_HPC_chr3_transformed_10pls.txt' ... (19%)\r",
      "   - Reading up to 134718 simulations from file 'input_ABC_OSG_CHTC_HPC_chr3_transformed_10pls.txt' ... (20%)\r",
      "   - Reading up to 134718 simulations from file 'input_ABC_OSG_CHTC_HPC_chr3_transformed_10pls.txt' ... (21%)\r",
      "   - Reading up to 134718 simulations from file 'input_ABC_OSG_CHTC_HPC_chr3_transformed_10pls.txt' ... (22%)\r",
      "   - Reading up to 134718 simulations from file 'input_ABC_OSG_CHTC_HPC_chr3_transformed_10pls.txt' ... (23%)\r",
      "   - Reading up to 134718 simulations from file 'input_ABC_OSG_CHTC_HPC_chr3_transformed_10pls.txt' ... (24%)\r",
      "   - Reading up to 134718 simulations from file 'input_ABC_OSG_CHTC_HPC_chr3_transformed_10pls.txt' ... (25%)\r",
      "   - Reading up to 134718 simulations from file 'input_ABC_OSG_CHTC_HPC_chr3_transformed_10pls.txt' ... (26%)\r",
      "   - Reading up to 134718 simulations from file 'input_ABC_OSG_CHTC_HPC_chr3_transformed_10pls.txt' ... (27%)\r",
      "   - Reading up to 134718 simulations from file 'input_ABC_OSG_CHTC_HPC_chr3_transformed_10pls.txt' ... (28%)\r",
      "   - Reading up to 134718 simulations from file 'input_ABC_OSG_CHTC_HPC_chr3_transformed_10pls.txt' ... (29%)\r",
      "   - Reading up to 134718 simulations from file 'input_ABC_OSG_CHTC_HPC_chr3_transformed_10pls.txt' ... (30%)\r",
      "   - Reading up to 134718 simulations from file 'input_ABC_OSG_CHTC_HPC_chr3_transformed_10pls.txt' ... (31%)\r",
      "   - Reading up to 134718 simulations from file 'input_ABC_OSG_CHTC_HPC_chr3_transformed_10pls.txt' ... (32%)\r",
      "   - Reading up to 134718 simulations from file 'input_ABC_OSG_CHTC_HPC_chr3_transformed_10pls.txt' ... (33%)\r",
      "   - Reading up to 134718 simulations from file 'input_ABC_OSG_CHTC_HPC_chr3_transformed_10pls.txt' ... (34%)\r",
      "   - Reading up to 134718 simulations from file 'input_ABC_OSG_CHTC_HPC_chr3_transformed_10pls.txt' ... (35%)\r",
      "   - Reading up to 134718 simulations from file 'input_ABC_OSG_CHTC_HPC_chr3_transformed_10pls.txt' ... (36%)\r",
      "   - Reading up to 134718 simulations from file 'input_ABC_OSG_CHTC_HPC_chr3_transformed_10pls.txt' ... (37%)\r",
      "   - Reading up to 134718 simulations from file 'input_ABC_OSG_CHTC_HPC_chr3_transformed_10pls.txt' ... (38%)\r",
      "   - Reading up to 134718 simulations from file 'input_ABC_OSG_CHTC_HPC_chr3_transformed_10pls.txt' ... (39%)\r",
      "   - Reading up to 134718 simulations from file 'input_ABC_OSG_CHTC_HPC_chr3_transformed_10pls.txt' ... (40%)\r",
      "   - Reading up to 134718 simulations from file 'input_ABC_OSG_CHTC_HPC_chr3_transformed_10pls.txt' ... (41%)\r",
      "   - Reading up to 134718 simulations from file 'input_ABC_OSG_CHTC_HPC_chr3_transformed_10pls.txt' ... (42%)\r",
      "   - Reading up to 134718 simulations from file 'input_ABC_OSG_CHTC_HPC_chr3_transformed_10pls.txt' ... (43%)\r",
      "   - Reading up to 134718 simulations from file 'input_ABC_OSG_CHTC_HPC_chr3_transformed_10pls.txt' ... (44%)\r",
      "   - Reading up to 134718 simulations from file 'input_ABC_OSG_CHTC_HPC_chr3_transformed_10pls.txt' ... (45%)\r",
      "   - Reading up to 134718 simulations from file 'input_ABC_OSG_CHTC_HPC_chr3_transformed_10pls.txt' ... (46%)\r",
      "   - Reading up to 134718 simulations from file 'input_ABC_OSG_CHTC_HPC_chr3_transformed_10pls.txt' ... (47%)\r",
      "   - Reading up to 134718 simulations from file 'input_ABC_OSG_CHTC_HPC_chr3_transformed_10pls.txt' ... (48%)\r",
      "   - Reading up to 134718 simulations from file 'input_ABC_OSG_CHTC_HPC_chr3_transformed_10pls.txt' ... (49%)\r",
      "   - Reading up to 134718 simulations from file 'input_ABC_OSG_CHTC_HPC_chr3_transformed_10pls.txt' ... (50%)\r",
      "   - Reading up to 134718 simulations from file 'input_ABC_OSG_CHTC_HPC_chr3_transformed_10pls.txt' ... (51%)\r",
      "   - Reading up to 134718 simulations from file 'input_ABC_OSG_CHTC_HPC_chr3_transformed_10pls.txt' ... (52%)\r",
      "   - Reading up to 134718 simulations from file 'input_ABC_OSG_CHTC_HPC_chr3_transformed_10pls.txt' ... (53%)\r",
      "   - Reading up to 134718 simulations from file 'input_ABC_OSG_CHTC_HPC_chr3_transformed_10pls.txt' ... (54%)\r",
      "   - Reading up to 134718 simulations from file 'input_ABC_OSG_CHTC_HPC_chr3_transformed_10pls.txt' ... (55%)\r",
      "   - Reading up to 134718 simulations from file 'input_ABC_OSG_CHTC_HPC_chr3_transformed_10pls.txt' ... (56%)\r",
      "   - Reading up to 134718 simulations from file 'input_ABC_OSG_CHTC_HPC_chr3_transformed_10pls.txt' ... (57%)\r",
      "   - Reading up to 134718 simulations from file 'input_ABC_OSG_CHTC_HPC_chr3_transformed_10pls.txt' ... (58%)\r",
      "   - Reading up to 134718 simulations from file 'input_ABC_OSG_CHTC_HPC_chr3_transformed_10pls.txt' ... (59%)\r",
      "   - Reading up to 134718 simulations from file 'input_ABC_OSG_CHTC_HPC_chr3_transformed_10pls.txt' ... (60%)\r",
      "   - Reading up to 134718 simulations from file 'input_ABC_OSG_CHTC_HPC_chr3_transformed_10pls.txt' ... (61%)\r",
      "   - Reading up to 134718 simulations from file 'input_ABC_OSG_CHTC_HPC_chr3_transformed_10pls.txt' ... (62%)\r",
      "   - Reading up to 134718 simulations from file 'input_ABC_OSG_CHTC_HPC_chr3_transformed_10pls.txt' ... (63%)\r",
      "   - Reading up to 134718 simulations from file 'input_ABC_OSG_CHTC_HPC_chr3_transformed_10pls.txt' ... (64%)\r",
      "   - Reading up to 134718 simulations from file 'input_ABC_OSG_CHTC_HPC_chr3_transformed_10pls.txt' ... (65%)\r",
      "   - Reading up to 134718 simulations from file 'input_ABC_OSG_CHTC_HPC_chr3_transformed_10pls.txt' ... (66%)\r",
      "   - Reading up to 134718 simulations from file 'input_ABC_OSG_CHTC_HPC_chr3_transformed_10pls.txt' ... (67%)\r",
      "   - Reading up to 134718 simulations from file 'input_ABC_OSG_CHTC_HPC_chr3_transformed_10pls.txt' ... (68%)\r",
      "   - Reading up to 134718 simulations from file 'input_ABC_OSG_CHTC_HPC_chr3_transformed_10pls.txt' ... (69%)\r",
      "   - Reading up to 134718 simulations from file 'input_ABC_OSG_CHTC_HPC_chr3_transformed_10pls.txt' ... (70%)\r",
      "   - Reading up to 134718 simulations from file 'input_ABC_OSG_CHTC_HPC_chr3_transformed_10pls.txt' ... (71%)\r",
      "   - Reading up to 134718 simulations from file 'input_ABC_OSG_CHTC_HPC_chr3_transformed_10pls.txt' ... (72%)\r",
      "   - Reading up to 134718 simulations from file 'input_ABC_OSG_CHTC_HPC_chr3_transformed_10pls.txt' ... (73%)\r",
      "   - Reading up to 134718 simulations from file 'input_ABC_OSG_CHTC_HPC_chr3_transformed_10pls.txt' ... (74%)\r",
      "   - Reading up to 134718 simulations from file 'input_ABC_OSG_CHTC_HPC_chr3_transformed_10pls.txt' ... (75%)\r",
      "   - Reading up to 134718 simulations from file 'input_ABC_OSG_CHTC_HPC_chr3_transformed_10pls.txt' ... (76%)\r",
      "   - Reading up to 134718 simulations from file 'input_ABC_OSG_CHTC_HPC_chr3_transformed_10pls.txt' ... (77%)\r",
      "   - Reading up to 134718 simulations from file 'input_ABC_OSG_CHTC_HPC_chr3_transformed_10pls.txt' ... (78%)\r",
      "   - Reading up to 134718 simulations from file 'input_ABC_OSG_CHTC_HPC_chr3_transformed_10pls.txt' ... (79%)\r",
      "   - Reading up to 134718 simulations from file 'input_ABC_OSG_CHTC_HPC_chr3_transformed_10pls.txt' ... (80%)\r",
      "   - Reading up to 134718 simulations from file 'input_ABC_OSG_CHTC_HPC_chr3_transformed_10pls.txt' ... (81%)\r",
      "   - Reading up to 134718 simulations from file 'input_ABC_OSG_CHTC_HPC_chr3_transformed_10pls.txt' ... (82%)\r",
      "   - Reading up to 134718 simulations from file 'input_ABC_OSG_CHTC_HPC_chr3_transformed_10pls.txt' ... (83%)\r",
      "   - Reading up to 134718 simulations from file 'input_ABC_OSG_CHTC_HPC_chr3_transformed_10pls.txt' ... (84%)\r",
      "   - Reading up to 134718 simulations from file 'input_ABC_OSG_CHTC_HPC_chr3_transformed_10pls.txt' ... (85%)\r",
      "   - Reading up to 134718 simulations from file 'input_ABC_OSG_CHTC_HPC_chr3_transformed_10pls.txt' ... (86%)\r",
      "   - Reading up to 134718 simulations from file 'input_ABC_OSG_CHTC_HPC_chr3_transformed_10pls.txt' ... (87%)\r",
      "   - Reading up to 134718 simulations from file 'input_ABC_OSG_CHTC_HPC_chr3_transformed_10pls.txt' ... (88%)\r",
      "   - Reading up to 134718 simulations from file 'input_ABC_OSG_CHTC_HPC_chr3_transformed_10pls.txt' ... (89%)\r",
      "   - Reading up to 134718 simulations from file 'input_ABC_OSG_CHTC_HPC_chr3_transformed_10pls.txt' ... (90%)\r",
      "   - Reading up to 134718 simulations from file 'input_ABC_OSG_CHTC_HPC_chr3_transformed_10pls.txt' ... (91%)\r",
      "   - Reading up to 134718 simulations from file 'input_ABC_OSG_CHTC_HPC_chr3_transformed_10pls.txt' ... (92%)\r",
      "   - Reading up to 134718 simulations from file 'input_ABC_OSG_CHTC_HPC_chr3_transformed_10pls.txt' ... (93%)\r",
      "   - Reading up to 134718 simulations from file 'input_ABC_OSG_CHTC_HPC_chr3_transformed_10pls.txt' ... (94%)\r",
      "   - Reading up to 134718 simulations from file 'input_ABC_OSG_CHTC_HPC_chr3_transformed_10pls.txt' ... (95%)\r",
      "   - Reading up to 134718 simulations from file 'input_ABC_OSG_CHTC_HPC_chr3_transformed_10pls.txt' ... (96%)\r",
      "   - Reading up to 134718 simulations from file 'input_ABC_OSG_CHTC_HPC_chr3_transformed_10pls.txt' ... (97%)\r",
      "   - Reading up to 134718 simulations from file 'input_ABC_OSG_CHTC_HPC_chr3_transformed_10pls.txt' ... (98%)\r",
      "   - Reading up to 134718 simulations from file 'input_ABC_OSG_CHTC_HPC_chr3_transformed_10pls.txt' ... (99%)\r",
      "   - Reading up to 134718 simulations from file 'input_ABC_OSG_CHTC_HPC_chr3_transformed_10pls.txt' ... done!   \n",
      "      -> 134717 simulations with 11 parameters and 10 statistics each.\n",
      "   - Checking for highly correlated statsitics:\n",
      "      - Calculate pairwise correlations ...done!\n",
      "      - No correlations exceeded the chosen threshold of 0.95.\n",
      "   - Checking for highly correlated parameters:\n",
      "      - Calculate pairwise correlations ...done!\n",
      "      - No correlations exceeded the chosen threshold of 0.95.\n",
      "- Performing an ABC-GLM standard estimations:\n",
      "   - Standardizing Parameters ... done!\n",
      "   - Performing estimations for observed data set 0:\n",
      "      - Calculating distances ... done!\n",
      "      - Retaining the best 1000 simulations ... done!\n",
      "         -> 1000 simulations retained with tolerance 29.0204.\n",
      "      - Writing retained ... done!\n",
      "      - Calculating Tukey depth of observed data:\n",
      "         - Tukey depth = 0.001001\n",
      "      - Performing local linear regression ... done!\n",
      "      - Preparing posterior density calculation ... done!\n",
      "      - Calculating marginal posterior densities for 11 parameters ... done!\n",
      "      - Writing marginal posterior densities ... done!\n",
      "      - Writing posterior characteristics ... done!\n",
      "      - Computing joint posterior distribution(s):\n",
      "         - Computing joint posterior densities for parameters 'Log10_NWA' and 'Log10_NEA':\n",
      "            - Preparing grid of 100 equally spaced positions per parameter ...  done!\n",
      "            - Computing density at 10000 positions ... (0%)\r",
      "            - Computing density at 10000 positions ... (1%)\r",
      "            - Computing density at 10000 positions ... (2%)\r",
      "            - Computing density at 10000 positions ... (3%)\r",
      "            - Computing density at 10000 positions ... (4%)\r",
      "            - Computing density at 10000 positions ... (5%)\r",
      "            - Computing density at 10000 positions ... (6%)\r",
      "            - Computing density at 10000 positions ... (7%)\r",
      "            - Computing density at 10000 positions ... (8%)\r",
      "            - Computing density at 10000 positions ... (9%)\r",
      "            - Computing density at 10000 positions ... (10%)\r",
      "            - Computing density at 10000 positions ... (11%)\r",
      "            - Computing density at 10000 positions ... (12%)\r",
      "            - Computing density at 10000 positions ... (13%)\r",
      "            - Computing density at 10000 positions ... (14%)\r",
      "            - Computing density at 10000 positions ... (15%)\r",
      "            - Computing density at 10000 positions ... (16%)\r",
      "            - Computing density at 10000 positions ... (17%)\r",
      "            - Computing density at 10000 positions ... (18%)\r",
      "            - Computing density at 10000 positions ... (19%)\r",
      "            - Computing density at 10000 positions ... (20%)\r",
      "            - Computing density at 10000 positions ... (21%)\r",
      "            - Computing density at 10000 positions ... (22%)\r",
      "            - Computing density at 10000 positions ... (23%)\r",
      "            - Computing density at 10000 positions ... (24%)\r",
      "            - Computing density at 10000 positions ... (25%)\r",
      "            - Computing density at 10000 positions ... (26%)\r",
      "            - Computing density at 10000 positions ... (27%)\r",
      "            - Computing density at 10000 positions ... (28%)\r",
      "            - Computing density at 10000 positions ... (29%)\r",
      "            - Computing density at 10000 positions ... (30%)\r",
      "            - Computing density at 10000 positions ... (31%)\r",
      "            - Computing density at 10000 positions ... (32%)\r",
      "            - Computing density at 10000 positions ... (33%)\r",
      "            - Computing density at 10000 positions ... (34%)\r",
      "            - Computing density at 10000 positions ... (35%)\r",
      "            - Computing density at 10000 positions ... (36%)\r",
      "            - Computing density at 10000 positions ... (37%)\r",
      "            - Computing density at 10000 positions ... (38%)\r",
      "            - Computing density at 10000 positions ... (39%)\r",
      "            - Computing density at 10000 positions ... (40%)\r",
      "            - Computing density at 10000 positions ... (41%)\r",
      "            - Computing density at 10000 positions ... (42%)\r",
      "            - Computing density at 10000 positions ... (43%)\r",
      "            - Computing density at 10000 positions ... (44%)\r",
      "            - Computing density at 10000 positions ... (45%)\r",
      "            - Computing density at 10000 positions ... (46%)\r",
      "            - Computing density at 10000 positions ... (47%)\r",
      "            - Computing density at 10000 positions ... (48%)\r",
      "            - Computing density at 10000 positions ... (49%)\r",
      "            - Computing density at 10000 positions ... (50%)\r",
      "            - Computing density at 10000 positions ... (51%)\r",
      "            - Computing density at 10000 positions ... (52%)\r",
      "            - Computing density at 10000 positions ... (53%)\r",
      "            - Computing density at 10000 positions ... (54%)\r",
      "            - Computing density at 10000 positions ... (55%)\r",
      "            - Computing density at 10000 positions ... (56%)\r",
      "            - Computing density at 10000 positions ... (57%)\r",
      "            - Computing density at 10000 positions ... (58%)\r",
      "            - Computing density at 10000 positions ... (59%)\r",
      "            - Computing density at 10000 positions ... (60%)\r",
      "            - Computing density at 10000 positions ... (61%)\r",
      "            - Computing density at 10000 positions ... (62%)\r",
      "            - Computing density at 10000 positions ... (63%)\r",
      "            - Computing density at 10000 positions ... (64%)\r",
      "            - Computing density at 10000 positions ... (65%)\r",
      "            - Computing density at 10000 positions ... (66%)\r",
      "            - Computing density at 10000 positions ... (67%)\r",
      "            - Computing density at 10000 positions ... (68%)\r",
      "            - Computing density at 10000 positions ... (69%)\r",
      "            - Computing density at 10000 positions ... (70%)\r",
      "            - Computing density at 10000 positions ... (71%)\r",
      "            - Computing density at 10000 positions ... (72%)\r",
      "            - Computing density at 10000 positions ... (73%)\r",
      "            - Computing density at 10000 positions ... (74%)\r",
      "            - Computing density at 10000 positions ... (75%)\r",
      "            - Computing density at 10000 positions ... (76%)\r",
      "            - Computing density at 10000 positions ... (77%)\r",
      "            - Computing density at 10000 positions ... (78%)\r",
      "            - Computing density at 10000 positions ... (79%)\r",
      "            - Computing density at 10000 positions ... (80%)\r",
      "            - Computing density at 10000 positions ... (81%)\r",
      "            - Computing density at 10000 positions ... (82%)\r",
      "            - Computing density at 10000 positions ... (83%)\r",
      "            - Computing density at 10000 positions ... (84%)\r",
      "            - Computing density at 10000 positions ... (85%)\r",
      "            - Computing density at 10000 positions ... (86%)\r",
      "            - Computing density at 10000 positions ... (87%)\r",
      "            - Computing density at 10000 positions ... (88%)\r",
      "            - Computing density at 10000 positions ... (89%)\r",
      "            - Computing density at 10000 positions ... (90%)\r",
      "            - Computing density at 10000 positions ... (91%)\r",
      "            - Computing density at 10000 positions ... (92%)\r",
      "            - Computing density at 10000 positions ... (93%)\r",
      "            - Computing density at 10000 positions ... (94%)\r",
      "            - Computing density at 10000 positions ... (95%)\r",
      "            - Computing density at 10000 positions ... (96%)\r",
      "            - Computing density at 10000 positions ... (97%)\r",
      "            - Computing density at 10000 positions ... (98%)\r",
      "            - Computing density at 10000 positions ... (99%)\r",
      "            - Computing density at 10000 positions ... (100%)\r",
      "            - Computing density at 10000 positions ... done!        \n",
      "         - Writing file(s) with joint posterior estimates ... done!\n",
      "      - Writing model fit ... done!\n",
      "      - Estimations for data set 0 finished successfully!\n",
      "- Program terminated in 0.45 min!\n",
      "\n",
      "\n"
     ]
    }
   ],
   "source": [
    "%%bash\n",
    "ABCtoolbox test_ABC_estimate_PLS.txt"
   ]
  },
  {
   "cell_type": "code",
   "execution_count": 17,
   "metadata": {},
   "outputs": [
    {
     "name": "stdout",
     "output_type": "stream",
     "text": [
      "ABC_M2_genome_estimate_134718_10pls_1000ret_chr3_model0_BestSimsParamStats_Obs0.txt\n",
      "ABC_M2_genome_estimate_134718_10pls_1000ret_chr3_model0_jointPosterior_1_2_Obs0.txt\n",
      "ABC_M2_genome_estimate_134718_10pls_1000ret_chr3_model0_MarginalPosteriorCharacteristics.txt\n",
      "ABC_M2_genome_estimate_134718_10pls_1000ret_chr3_model0_MarginalPosteriorDensities_Obs0.txt\n",
      "ABC_M2_genome_estimate_134718_10pls_1000ret_chr3_modelFit.txt\n"
     ]
    }
   ],
   "source": [
    "%%bash\n",
    "ls ABC_M2_genome_estimate_*_10pls_1000ret_chr3_*"
   ]
  },
  {
   "cell_type": "code",
   "execution_count": 18,
   "metadata": {},
   "outputs": [
    {
     "data": {
      "text/html": [
       "<div>\n",
       "<style scoped>\n",
       "    .dataframe tbody tr th:only-of-type {\n",
       "        vertical-align: middle;\n",
       "    }\n",
       "\n",
       "    .dataframe tbody tr th {\n",
       "        vertical-align: top;\n",
       "    }\n",
       "\n",
       "    .dataframe thead th {\n",
       "        text-align: right;\n",
       "    }\n",
       "</style>\n",
       "<table border=\"1\" class=\"dataframe\">\n",
       "  <thead>\n",
       "    <tr style=\"text-align: right;\">\n",
       "      <th></th>\n",
       "      <th>dataSet</th>\n",
       "      <th>Log10_NWA_mode</th>\n",
       "      <th>Log10_NWA_mean</th>\n",
       "      <th>Log10_NWA_median</th>\n",
       "      <th>Log10_NWA_q50_lower</th>\n",
       "      <th>Log10_NWA_q50_upper</th>\n",
       "      <th>Log10_NWA_q90_lower</th>\n",
       "      <th>Log10_NWA_q90_upper</th>\n",
       "      <th>Log10_NWA_q95_lower</th>\n",
       "      <th>Log10_NWA_q95_upper</th>\n",
       "      <th>...</th>\n",
       "      <th>Tm_q99_lower</th>\n",
       "      <th>Tm_q99_upper</th>\n",
       "      <th>Tm_HDI50_lower</th>\n",
       "      <th>Tm_HDI50_upper</th>\n",
       "      <th>Tm_HDI90_lower</th>\n",
       "      <th>Tm_HDI90_upper</th>\n",
       "      <th>Tm_HDI95_lower</th>\n",
       "      <th>Tm_HDI95_upper</th>\n",
       "      <th>Tm_HDI99_lower</th>\n",
       "      <th>Tm_HDI99_upper</th>\n",
       "    </tr>\n",
       "  </thead>\n",
       "  <tbody>\n",
       "    <tr>\n",
       "      <th>0</th>\n",
       "      <td>0</td>\n",
       "      <td>3.74747</td>\n",
       "      <td>4.57085</td>\n",
       "      <td>4.48025</td>\n",
       "      <td>3.77956</td>\n",
       "      <td>5.32195</td>\n",
       "      <td>3.21805</td>\n",
       "      <td>6.19209</td>\n",
       "      <td>3.12036</td>\n",
       "      <td>6.38509</td>\n",
       "      <td>...</td>\n",
       "      <td>3.65082</td>\n",
       "      <td>34.4639</td>\n",
       "      <td>12.9184</td>\n",
       "      <td>23.8485</td>\n",
       "      <td>6.92057</td>\n",
       "      <td>31.2828</td>\n",
       "      <td>5.52227</td>\n",
       "      <td>32.899</td>\n",
       "      <td>4.04957</td>\n",
       "      <td>34.8384</td>\n",
       "    </tr>\n",
       "  </tbody>\n",
       "</table>\n",
       "<p>1 rows × 210 columns</p>\n",
       "</div>"
      ],
      "text/plain": [
       "   dataSet  Log10_NWA_mode  Log10_NWA_mean  Log10_NWA_median  \\\n",
       "0        0         3.74747         4.57085           4.48025   \n",
       "\n",
       "   Log10_NWA_q50_lower  Log10_NWA_q50_upper  Log10_NWA_q90_lower  \\\n",
       "0              3.77956              5.32195              3.21805   \n",
       "\n",
       "   Log10_NWA_q90_upper  Log10_NWA_q95_lower  Log10_NWA_q95_upper  \\\n",
       "0              6.19209              3.12036              6.38509   \n",
       "\n",
       "        ...        Tm_q99_lower  Tm_q99_upper  Tm_HDI50_lower  Tm_HDI50_upper  \\\n",
       "0       ...             3.65082       34.4639         12.9184         23.8485   \n",
       "\n",
       "   Tm_HDI90_lower  Tm_HDI90_upper  Tm_HDI95_lower  Tm_HDI95_upper  \\\n",
       "0         6.92057         31.2828         5.52227          32.899   \n",
       "\n",
       "   Tm_HDI99_lower  Tm_HDI99_upper  \n",
       "0         4.04957         34.8384  \n",
       "\n",
       "[1 rows x 210 columns]"
      ]
     },
     "execution_count": 18,
     "metadata": {},
     "output_type": "execute_result"
    }
   ],
   "source": [
    "pd.read_csv('ABC_M2_genome_estimate_134718_10pls_1000ret_chr3_model0_MarginalPosteriorCharacteristics.txt', sep = '\\t')"
   ]
  },
  {
   "cell_type": "code",
   "execution_count": null,
   "metadata": {},
   "outputs": [],
   "source": []
  }
 ],
 "metadata": {
  "kernelspec": {
   "display_name": "Python 3",
   "language": "python",
   "name": "python3"
  },
  "language_info": {
   "codemirror_mode": {
    "name": "ipython",
    "version": 3
   },
   "file_extension": ".py",
   "mimetype": "text/x-python",
   "name": "python",
   "nbconvert_exporter": "python",
   "pygments_lexer": "ipython3",
   "version": "3.6.4"
  }
 },
 "nbformat": 4,
 "nbformat_minor": 2
}
